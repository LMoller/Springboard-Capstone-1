{
 "cells": [
  {
   "cell_type": "markdown",
   "metadata": {},
   "source": [
    "### Define the Problem\n",
    "\n",
    "I would like to help nonprofits grow and retain their donor base by better understanding donor characteristics and behavior. By understanding donor characteristics, nonprofits can target donors in specific ways, retain donors, find new donors, act at the “right” time, and suggest ways to get involved or donate that fit the donors’ lifestyle. \n",
    "\n",
    "-   Target Donors: By better understanding the characteristics of the “groups” that donors fall into, they can more effectively use their marketing resources as they reach out their donors. For example, some groups may respond better to phone calls or emails rather than a mailing campaign. The nonprofit could save money by not sending mail to certain groups, but rather send an email instead.\n",
    "-\tRetain Donors: There may be certain donors who love going to happy hour events, and others who volunteer events. By better understanding what drives each donor to engage, i.e. – their lifestyle and preferences, nonprofits can better engage with donors on their level.\n",
    "-\tFind new Donors: Understanding the donor base allows nonprofits to grow their donor base by finding donors with similar interests and drives. The deeper knowledge allows a more focused approach to reaching out to new donors.\n",
    "-\tPinpoint Timing: By better understanding the donor base, the nonprofit also has insight into when their different segments of donors are most likely to donate.\n",
    "-\tSet “donor levels” or specific campaigns: Nonprofits would have a better idea of specific “asks”. For example, Bernie Sanders often talked about his average $27 donation. This gave people a specific amount to think about when they went to donate. Or another example is the Silver/Gold/Platinum membership level.\n"
   ]
  },
  {
   "cell_type": "markdown",
   "metadata": {},
   "source": [
    "### Identify Your Client\n",
    "\n",
    "The client is a clothing store, “Threads”. I will help Threads better understand who their clients are, and analyze the response rate to a mail marketing campaign. Threads will better understand the effectiveness of the marketing campaign and save money in the future by targeting only the responsive users with similar campaigns. Threads can then try other methods to engage with the customers who were nonresponsive to the mail marketing campaign."
   ]
  },
  {
   "cell_type": "markdown",
   "metadata": {},
   "source": [
    "### Describe Your Data Set, and How You Cleaned/Wrangled It\n",
    "\n",
    "I am using the dataset from Data Mining Methods and Models, so much of the finding/structuring/cleaning/validating was already finished. I had to line up general descriptions of the columns from the book to the actual columns in the dataset. I am unsure of the description of two columns.\n",
    "\n",
    "To get a sense of the data, I counted rows and features, detailed the type of each feature, signified whether the features have categorical data, looked for missing values, and provided summary statistics for numerical columns."
   ]
  },
  {
   "cell_type": "markdown",
   "metadata": {},
   "source": [
    "### List Other Potential Data Sets You Could Use\n",
    "\n",
    "The dataset came from the book, Data Mining Methods and Models, and contains a feature, the Microvision lifestyle cluster type.  This cluster type is the market segmentation category for each customer as defined by Claritas Demographics, an analytics firm. I did not use their data.\n",
    "\n",
    "I could also use census data to add to my data."
   ]
  },
  {
   "cell_type": "markdown",
   "metadata": {},
   "source": [
    "### Explain Your Initial Findings\n",
    "\n",
    "For my initial findings, I am seeing that there is a statistically significant difference in purchase behavior between the group of customers who responded to mailing promotion and those who did not. Although the behaviors between the Responsive and Non-Responsive groups generally track with behaviors of loyal and non-loyal customers respectively. So it is difficult to tell if the promotion had an effect on purchasing behavior, or the customers who would already have higher purchase visits and spend more money, for example, took advantage of the promotion."
   ]
  },
  {
   "cell_type": "markdown",
   "metadata": {
    "collapsed": true
   },
   "source": [
    "### Next Steps"
   ]
  },
  {
   "cell_type": "markdown",
   "metadata": {},
   "source": [
    "For my next steps, I will be working on Classification and Customer Segmentation. The Classification piece will try and predict whether an observation belongs to the Responsive or Non-Responsive group. We will use Customer Segmentation to identify different types of customers, and provide Threads with a better idea of their customer base."
   ]
  }
 ],
 "metadata": {
  "kernelspec": {
   "display_name": "Python 2",
   "language": "python",
   "name": "python2"
  },
  "language_info": {
   "codemirror_mode": {
    "name": "ipython",
    "version": 2
   },
   "file_extension": ".py",
   "mimetype": "text/x-python",
   "name": "python",
   "nbconvert_exporter": "python",
   "pygments_lexer": "ipython2",
   "version": "2.7.13"
  }
 },
 "nbformat": 4,
 "nbformat_minor": 2
}
