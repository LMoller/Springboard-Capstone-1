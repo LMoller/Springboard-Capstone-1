{
 "cells": [
  {
   "cell_type": "markdown",
   "metadata": {},
   "source": [
    "### Classification\n",
    "\n",
    "Using Classification, we will try to predict whether an observation belongs to the Responsive or Non-Responsive group. We will try a Logistic Regression model to do the classification, and if needed a Random Forest model."
   ]
  },
  {
   "cell_type": "code",
   "execution_count": 1,
   "metadata": {},
   "outputs": [
    {
     "name": "stderr",
     "output_type": "stream",
     "text": [
      "/anaconda2/lib/python2.7/site-packages/sklearn/cross_validation.py:41: DeprecationWarning: This module was deprecated in version 0.18 in favor of the model_selection module into which all the refactored classes and functions are moved. Also note that the interface of the new CV iterators are different from that of this module. This module will be removed in 0.20.\n",
      "  \"This module will be removed in 0.20.\", DeprecationWarning)\n",
      "/anaconda2/lib/python2.7/site-packages/sklearn/grid_search.py:42: DeprecationWarning: This module was deprecated in version 0.18 in favor of the model_selection module into which all the refactored classes and functions are moved. This module will be removed in 0.20.\n",
      "  DeprecationWarning)\n"
     ]
    }
   ],
   "source": [
    "import pandas as pd\n",
    "from matplotlib.colors import ListedColormap\n",
    "import matplotlib.pyplot as plt\n",
    "from sklearn.model_selection import train_test_split\n",
    "from sklearn.linear_model import LogisticRegression\n",
    "from sklearn.metrics import accuracy_score\n",
    "from sklearn.metrics import classification_report\n",
    "from sklearn.model_selection import KFold\n",
    "from sklearn.grid_search import GridSearchCV\n",
    "from sklearn.ensemble import RandomForestClassifier\n",
    "from imblearn.over_sampling import SMOTE\n",
    "from collections import Counter\n",
    "from imblearn.under_sampling import RandomUnderSampler\n",
    "import numpy as np\n",
    "from sklearn.model_selection import GridSearchCV"
   ]
  },
  {
   "cell_type": "code",
   "execution_count": 2,
   "metadata": {},
   "outputs": [
    {
     "data": {
      "text/html": [
       "<div>\n",
       "<style>\n",
       "    .dataframe thead tr:only-child th {\n",
       "        text-align: right;\n",
       "    }\n",
       "\n",
       "    .dataframe thead th {\n",
       "        text-align: left;\n",
       "    }\n",
       "\n",
       "    .dataframe tbody tr th {\n",
       "        vertical-align: top;\n",
       "    }\n",
       "</style>\n",
       "<table border=\"1\" class=\"dataframe\">\n",
       "  <thead>\n",
       "    <tr style=\"text-align: right;\">\n",
       "      <th></th>\n",
       "      <th>HHKEY</th>\n",
       "      <th>ZIP_CODE</th>\n",
       "      <th>REC</th>\n",
       "      <th>FRE</th>\n",
       "      <th>MON</th>\n",
       "      <th>CC_CARD</th>\n",
       "      <th>AVRG</th>\n",
       "      <th>PC_CALC20</th>\n",
       "      <th>PSWEATERS</th>\n",
       "      <th>PKNIT_TOPS</th>\n",
       "      <th>...</th>\n",
       "      <th>VALPHON</th>\n",
       "      <th>WEB</th>\n",
       "      <th>MAILED</th>\n",
       "      <th>RESPONDED</th>\n",
       "      <th>RESPONSERATE</th>\n",
       "      <th>HI</th>\n",
       "      <th>LTFREDAY</th>\n",
       "      <th>CLUSTYPE</th>\n",
       "      <th>PERCRET</th>\n",
       "      <th>RESP</th>\n",
       "    </tr>\n",
       "  </thead>\n",
       "  <tbody>\n",
       "    <tr>\n",
       "      <th>0</th>\n",
       "      <td>9955600066402</td>\n",
       "      <td>1001</td>\n",
       "      <td>208</td>\n",
       "      <td>2</td>\n",
       "      <td>368.46</td>\n",
       "      <td>0</td>\n",
       "      <td>184.23</td>\n",
       "      <td>11</td>\n",
       "      <td>0.18</td>\n",
       "      <td>0.00</td>\n",
       "      <td>...</td>\n",
       "      <td>N</td>\n",
       "      <td>0</td>\n",
       "      <td>5</td>\n",
       "      <td>0</td>\n",
       "      <td>0.00</td>\n",
       "      <td>31.81</td>\n",
       "      <td>111.00</td>\n",
       "      <td>10</td>\n",
       "      <td>0.00</td>\n",
       "      <td>0</td>\n",
       "    </tr>\n",
       "    <tr>\n",
       "      <th>1</th>\n",
       "      <td>9955600073501</td>\n",
       "      <td>1028</td>\n",
       "      <td>6</td>\n",
       "      <td>4</td>\n",
       "      <td>258.00</td>\n",
       "      <td>1</td>\n",
       "      <td>64.50</td>\n",
       "      <td>11</td>\n",
       "      <td>0.26</td>\n",
       "      <td>0.16</td>\n",
       "      <td>...</td>\n",
       "      <td>Y</td>\n",
       "      <td>0</td>\n",
       "      <td>4</td>\n",
       "      <td>2</td>\n",
       "      <td>50.00</td>\n",
       "      <td>32.72</td>\n",
       "      <td>43.50</td>\n",
       "      <td>10</td>\n",
       "      <td>0.03</td>\n",
       "      <td>1</td>\n",
       "    </tr>\n",
       "    <tr>\n",
       "      <th>2</th>\n",
       "      <td>9955600076313</td>\n",
       "      <td>1056</td>\n",
       "      <td>327</td>\n",
       "      <td>2</td>\n",
       "      <td>77.00</td>\n",
       "      <td>0</td>\n",
       "      <td>38.50</td>\n",
       "      <td>11</td>\n",
       "      <td>1.00</td>\n",
       "      <td>0.00</td>\n",
       "      <td>...</td>\n",
       "      <td>N</td>\n",
       "      <td>0</td>\n",
       "      <td>4</td>\n",
       "      <td>0</td>\n",
       "      <td>0.00</td>\n",
       "      <td>100.00</td>\n",
       "      <td>68.60</td>\n",
       "      <td>16</td>\n",
       "      <td>0.00</td>\n",
       "      <td>0</td>\n",
       "    </tr>\n",
       "    <tr>\n",
       "      <th>3</th>\n",
       "      <td>9955600078045</td>\n",
       "      <td>1118</td>\n",
       "      <td>66</td>\n",
       "      <td>8</td>\n",
       "      <td>846.06</td>\n",
       "      <td>1</td>\n",
       "      <td>105.75</td>\n",
       "      <td>11</td>\n",
       "      <td>0.38</td>\n",
       "      <td>0.00</td>\n",
       "      <td>...</td>\n",
       "      <td>Y</td>\n",
       "      <td>0</td>\n",
       "      <td>9</td>\n",
       "      <td>6</td>\n",
       "      <td>66.67</td>\n",
       "      <td>23.27</td>\n",
       "      <td>26.96</td>\n",
       "      <td>10</td>\n",
       "      <td>0.00</td>\n",
       "      <td>0</td>\n",
       "    </tr>\n",
       "    <tr>\n",
       "      <th>4</th>\n",
       "      <td>9955600078517</td>\n",
       "      <td>1107</td>\n",
       "      <td>49</td>\n",
       "      <td>1</td>\n",
       "      <td>87.44</td>\n",
       "      <td>0</td>\n",
       "      <td>87.44</td>\n",
       "      <td>11</td>\n",
       "      <td>0.20</td>\n",
       "      <td>0.20</td>\n",
       "      <td>...</td>\n",
       "      <td>Y</td>\n",
       "      <td>0</td>\n",
       "      <td>0</td>\n",
       "      <td>0</td>\n",
       "      <td>0.00</td>\n",
       "      <td>28.52</td>\n",
       "      <td>24.50</td>\n",
       "      <td>20</td>\n",
       "      <td>0.00</td>\n",
       "      <td>0</td>\n",
       "    </tr>\n",
       "  </tbody>\n",
       "</table>\n",
       "<p>5 rows × 51 columns</p>\n",
       "</div>"
      ],
      "text/plain": [
       "           HHKEY  ZIP_CODE  REC  FRE     MON  CC_CARD    AVRG  PC_CALC20  \\\n",
       "0  9955600066402      1001  208    2  368.46        0  184.23         11   \n",
       "1  9955600073501      1028    6    4  258.00        1   64.50         11   \n",
       "2  9955600076313      1056  327    2   77.00        0   38.50         11   \n",
       "3  9955600078045      1118   66    8  846.06        1  105.75         11   \n",
       "4  9955600078517      1107   49    1   87.44        0   87.44         11   \n",
       "\n",
       "   PSWEATERS  PKNIT_TOPS  ...   VALPHON  WEB  MAILED  RESPONDED  RESPONSERATE  \\\n",
       "0       0.18        0.00  ...         N    0       5          0          0.00   \n",
       "1       0.26        0.16  ...         Y    0       4          2         50.00   \n",
       "2       1.00        0.00  ...         N    0       4          0          0.00   \n",
       "3       0.38        0.00  ...         Y    0       9          6         66.67   \n",
       "4       0.20        0.20  ...         Y    0       0          0          0.00   \n",
       "\n",
       "       HI  LTFREDAY  CLUSTYPE  PERCRET  RESP  \n",
       "0   31.81    111.00        10     0.00     0  \n",
       "1   32.72     43.50        10     0.03     1  \n",
       "2  100.00     68.60        16     0.00     0  \n",
       "3   23.27     26.96        10     0.00     0  \n",
       "4   28.52     24.50        20     0.00     0  \n",
       "\n",
       "[5 rows x 51 columns]"
      ]
     },
     "execution_count": 2,
     "metadata": {},
     "output_type": "execute_result"
    }
   ],
   "source": [
    "# Read in the data file\n",
    "clothingFile = pd.read_table('Clothing_Store',sep=',')\n",
    "clothingFile.head()"
   ]
  },
  {
   "cell_type": "markdown",
   "metadata": {},
   "source": [
    "### Prepare dataframe for input to Logistic Regression model."
   ]
  },
  {
   "cell_type": "markdown",
   "metadata": {},
   "source": [
    "#### Column Descriptions\n",
    "\n",
    "- 'HHKEY' - Customer ID: unique, encrypted customer identification\n",
    "- 'ZIP_CODE' - Zip code\n",
    "- 'REC' - a variable showing the brand of choice (encrypted)\n",
    "- 'FRE' - Number of purchase visits\n",
    "- 'MON' - Total net sales\n",
    "- 'CC_CARD' - Flag: credit card user\n",
    "- 'AVRG' - Average amount spent per visit\n",
    "- 'PC_CALC20',\n",
    "- 'PSWEATERS' - percentages spent by the customer on Sweaters\n",
    "- 'PKNIT_TOPS' - percentages spent by the customer on knit tops\n",
    "- 'PKNIT_DRES' - percentages spent by the customer on knit dresses\n",
    "- 'PBLOUSES' - percentages spent by the customer on blouses\n",
    "- 'PJACKETS' - percentages spent by the customer on jackets\n",
    "- 'PCAR_PNTS' - percentages spent by the customer on career pants\n",
    "- 'PCAS_PNTS' - percentages spent by the customer on casual pants\n",
    "- 'PSHIRTS' - percentages spent by the customer on shirts\n",
    "- 'PDRESSES' - percentages spent by the customer on dresses\n",
    "- 'PSUITS' - percentages spent by the customer on suits\n",
    "- 'POUTERWEAR' - percentages spent by the customer on outerwear\n",
    "- 'PJEWELRY' - percentages spent by the customer on jewelry\n",
    "- 'PFASHION' - percentages spent by the customer on fashion\n",
    "- 'PLEGWEAR' - percentages spent by the customer on legwear\n",
    "- 'PCOLLSPND' - percentages spent by the customer on collectibles line\n",
    "- 'AMSPEND' - Spending at the AM store\n",
    "- 'PSSPEND' - Spending at the PS store\n",
    "- 'CCSPEND' - Spending at the CC store\n",
    "- 'AXSPEND' - Spending at the AX store\n",
    "- 'TMONSPEND' - Amount spent in the past three months\n",
    "- 'OMONSPEND' - Amount spent in the past month\n",
    "- 'SMONSPEND' - Amount spent in the past six months\n",
    "- 'PREVPD',\n",
    "- 'GMP' - Gross margin percentage\n",
    "- 'PROMOS' - Number of marketing promotions on file\n",
    "- 'DAYS' - Number of days the customer has been on file\n",
    "- 'FREDAYS' - Number of days between purchases\n",
    "- 'MARKDOWN' - Markdown percentage on customer purchases - indicates which customers have purchased merchandise that has been marked down\n",
    "- 'CLASSES' - Number of different product classes purchased\n",
    "- 'COUPONS' - Number of coupons used by the customer\n",
    "- 'STYLES' - Total number of individual items purchased by the customer\n",
    "- 'STORES' - Number of stores the customer shopped at\n",
    "- 'STORELOY' - Spending in the same period last year (?)\n",
    "- 'VALPHON' - Flag: valid phone number on file\n",
    "- 'WEB' - Flag: Web shopper\n",
    "- 'MAILED' - Number of promotions mailed in the past year\n",
    "- 'RESPONDED' - Number of promotions responded to in the past year\n",
    "- 'RESPONSERATE' - Promotion response rate for the past year - indicates which customers have ever responded to a marketing promotion before\n",
    "- 'HI' - Product uniformity (low score = diverse spending patterns)\n",
    "- 'LTFREDAY' - Lifetime average time between visits\n",
    "- 'CLUSTYPE' - Microvision lifestyle cluster type\n",
    "- 'PERCRET' - Percent of returns\n",
    "- 'RESP' - Target variable: response to promotion"
   ]
  },
  {
   "cell_type": "markdown",
   "metadata": {},
   "source": [
    "Categorical Columns: CC_Card, VALPHON, WEB, CLUSTYPE, RESP\n",
    "\n",
    "Column with Unique Values: HHKEY\n",
    "\n",
    "Categorical columns need to be in 0/1 format. Categorical columns with more than one category need to be flattened out so they can also have 0/1 format."
   ]
  },
  {
   "cell_type": "code",
   "execution_count": 3,
   "metadata": {},
   "outputs": [
    {
     "data": {
      "text/html": [
       "<div>\n",
       "<style>\n",
       "    .dataframe thead tr:only-child th {\n",
       "        text-align: right;\n",
       "    }\n",
       "\n",
       "    .dataframe thead th {\n",
       "        text-align: left;\n",
       "    }\n",
       "\n",
       "    .dataframe tbody tr th {\n",
       "        vertical-align: top;\n",
       "    }\n",
       "</style>\n",
       "<table border=\"1\" class=\"dataframe\">\n",
       "  <thead>\n",
       "    <tr style=\"text-align: right;\">\n",
       "      <th></th>\n",
       "      <th>HHKEY</th>\n",
       "      <th>ZIP_CODE</th>\n",
       "      <th>REC</th>\n",
       "      <th>FRE</th>\n",
       "      <th>MON</th>\n",
       "      <th>CC_CARD</th>\n",
       "      <th>AVRG</th>\n",
       "      <th>PC_CALC20</th>\n",
       "      <th>PSWEATERS</th>\n",
       "      <th>PKNIT_TOPS</th>\n",
       "      <th>...</th>\n",
       "      <th>VALPHON</th>\n",
       "      <th>WEB</th>\n",
       "      <th>MAILED</th>\n",
       "      <th>RESPONDED</th>\n",
       "      <th>RESPONSERATE</th>\n",
       "      <th>HI</th>\n",
       "      <th>LTFREDAY</th>\n",
       "      <th>CLUSTYPE</th>\n",
       "      <th>PERCRET</th>\n",
       "      <th>RESP</th>\n",
       "    </tr>\n",
       "  </thead>\n",
       "  <tbody>\n",
       "    <tr>\n",
       "      <th>0</th>\n",
       "      <td>9955600066402</td>\n",
       "      <td>1001</td>\n",
       "      <td>208</td>\n",
       "      <td>2</td>\n",
       "      <td>368.46</td>\n",
       "      <td>0</td>\n",
       "      <td>184.23</td>\n",
       "      <td>11</td>\n",
       "      <td>0.18</td>\n",
       "      <td>0.00</td>\n",
       "      <td>...</td>\n",
       "      <td>0</td>\n",
       "      <td>0</td>\n",
       "      <td>5</td>\n",
       "      <td>0</td>\n",
       "      <td>0.00</td>\n",
       "      <td>31.81</td>\n",
       "      <td>111.00</td>\n",
       "      <td>10</td>\n",
       "      <td>0.00</td>\n",
       "      <td>0</td>\n",
       "    </tr>\n",
       "    <tr>\n",
       "      <th>1</th>\n",
       "      <td>9955600073501</td>\n",
       "      <td>1028</td>\n",
       "      <td>6</td>\n",
       "      <td>4</td>\n",
       "      <td>258.00</td>\n",
       "      <td>1</td>\n",
       "      <td>64.50</td>\n",
       "      <td>11</td>\n",
       "      <td>0.26</td>\n",
       "      <td>0.16</td>\n",
       "      <td>...</td>\n",
       "      <td>1</td>\n",
       "      <td>0</td>\n",
       "      <td>4</td>\n",
       "      <td>2</td>\n",
       "      <td>50.00</td>\n",
       "      <td>32.72</td>\n",
       "      <td>43.50</td>\n",
       "      <td>10</td>\n",
       "      <td>0.03</td>\n",
       "      <td>1</td>\n",
       "    </tr>\n",
       "    <tr>\n",
       "      <th>2</th>\n",
       "      <td>9955600076313</td>\n",
       "      <td>1056</td>\n",
       "      <td>327</td>\n",
       "      <td>2</td>\n",
       "      <td>77.00</td>\n",
       "      <td>0</td>\n",
       "      <td>38.50</td>\n",
       "      <td>11</td>\n",
       "      <td>1.00</td>\n",
       "      <td>0.00</td>\n",
       "      <td>...</td>\n",
       "      <td>0</td>\n",
       "      <td>0</td>\n",
       "      <td>4</td>\n",
       "      <td>0</td>\n",
       "      <td>0.00</td>\n",
       "      <td>100.00</td>\n",
       "      <td>68.60</td>\n",
       "      <td>16</td>\n",
       "      <td>0.00</td>\n",
       "      <td>0</td>\n",
       "    </tr>\n",
       "    <tr>\n",
       "      <th>3</th>\n",
       "      <td>9955600078045</td>\n",
       "      <td>1118</td>\n",
       "      <td>66</td>\n",
       "      <td>8</td>\n",
       "      <td>846.06</td>\n",
       "      <td>1</td>\n",
       "      <td>105.75</td>\n",
       "      <td>11</td>\n",
       "      <td>0.38</td>\n",
       "      <td>0.00</td>\n",
       "      <td>...</td>\n",
       "      <td>1</td>\n",
       "      <td>0</td>\n",
       "      <td>9</td>\n",
       "      <td>6</td>\n",
       "      <td>66.67</td>\n",
       "      <td>23.27</td>\n",
       "      <td>26.96</td>\n",
       "      <td>10</td>\n",
       "      <td>0.00</td>\n",
       "      <td>0</td>\n",
       "    </tr>\n",
       "    <tr>\n",
       "      <th>4</th>\n",
       "      <td>9955600078517</td>\n",
       "      <td>1107</td>\n",
       "      <td>49</td>\n",
       "      <td>1</td>\n",
       "      <td>87.44</td>\n",
       "      <td>0</td>\n",
       "      <td>87.44</td>\n",
       "      <td>11</td>\n",
       "      <td>0.20</td>\n",
       "      <td>0.20</td>\n",
       "      <td>...</td>\n",
       "      <td>1</td>\n",
       "      <td>0</td>\n",
       "      <td>0</td>\n",
       "      <td>0</td>\n",
       "      <td>0.00</td>\n",
       "      <td>28.52</td>\n",
       "      <td>24.50</td>\n",
       "      <td>20</td>\n",
       "      <td>0.00</td>\n",
       "      <td>0</td>\n",
       "    </tr>\n",
       "  </tbody>\n",
       "</table>\n",
       "<p>5 rows × 51 columns</p>\n",
       "</div>"
      ],
      "text/plain": [
       "           HHKEY  ZIP_CODE  REC  FRE     MON  CC_CARD    AVRG  PC_CALC20  \\\n",
       "0  9955600066402      1001  208    2  368.46        0  184.23         11   \n",
       "1  9955600073501      1028    6    4  258.00        1   64.50         11   \n",
       "2  9955600076313      1056  327    2   77.00        0   38.50         11   \n",
       "3  9955600078045      1118   66    8  846.06        1  105.75         11   \n",
       "4  9955600078517      1107   49    1   87.44        0   87.44         11   \n",
       "\n",
       "   PSWEATERS  PKNIT_TOPS  ...   VALPHON  WEB  MAILED  RESPONDED  RESPONSERATE  \\\n",
       "0       0.18        0.00  ...         0    0       5          0          0.00   \n",
       "1       0.26        0.16  ...         1    0       4          2         50.00   \n",
       "2       1.00        0.00  ...         0    0       4          0          0.00   \n",
       "3       0.38        0.00  ...         1    0       9          6         66.67   \n",
       "4       0.20        0.20  ...         1    0       0          0          0.00   \n",
       "\n",
       "       HI  LTFREDAY  CLUSTYPE  PERCRET  RESP  \n",
       "0   31.81    111.00        10     0.00     0  \n",
       "1   32.72     43.50        10     0.03     1  \n",
       "2  100.00     68.60        16     0.00     0  \n",
       "3   23.27     26.96        10     0.00     0  \n",
       "4   28.52     24.50        20     0.00     0  \n",
       "\n",
       "[5 rows x 51 columns]"
      ]
     },
     "execution_count": 3,
     "metadata": {},
     "output_type": "execute_result"
    }
   ],
   "source": [
    "# Change VALPHON to 0 and 1 instead of N and Y\n",
    "clothingFile.VALPHON.replace(('Y', 'N'), (1, 0), inplace=True)\n",
    "clothingFile.head()"
   ]
  },
  {
   "cell_type": "code",
   "execution_count": 4,
   "metadata": {
    "collapsed": true
   },
   "outputs": [],
   "source": [
    "# Make CLUSTYPE separate columns of 0 and 1.\n",
    "clothingFileLR = pd.get_dummies(clothingFile,columns=['CLUSTYPE'])"
   ]
  },
  {
   "cell_type": "code",
   "execution_count": 5,
   "metadata": {},
   "outputs": [
    {
     "name": "stdout",
     "output_type": "stream",
     "text": [
      "(21740, 101)\n"
     ]
    },
    {
     "data": {
      "text/html": [
       "<div>\n",
       "<style>\n",
       "    .dataframe thead tr:only-child th {\n",
       "        text-align: right;\n",
       "    }\n",
       "\n",
       "    .dataframe thead th {\n",
       "        text-align: left;\n",
       "    }\n",
       "\n",
       "    .dataframe tbody tr th {\n",
       "        vertical-align: top;\n",
       "    }\n",
       "</style>\n",
       "<table border=\"1\" class=\"dataframe\">\n",
       "  <thead>\n",
       "    <tr style=\"text-align: right;\">\n",
       "      <th></th>\n",
       "      <th>HHKEY</th>\n",
       "      <th>ZIP_CODE</th>\n",
       "      <th>REC</th>\n",
       "      <th>FRE</th>\n",
       "      <th>MON</th>\n",
       "      <th>CC_CARD</th>\n",
       "      <th>AVRG</th>\n",
       "      <th>PC_CALC20</th>\n",
       "      <th>PSWEATERS</th>\n",
       "      <th>PKNIT_TOPS</th>\n",
       "      <th>...</th>\n",
       "      <th>CLUSTYPE_41</th>\n",
       "      <th>CLUSTYPE_42</th>\n",
       "      <th>CLUSTYPE_43</th>\n",
       "      <th>CLUSTYPE_44</th>\n",
       "      <th>CLUSTYPE_45</th>\n",
       "      <th>CLUSTYPE_46</th>\n",
       "      <th>CLUSTYPE_47</th>\n",
       "      <th>CLUSTYPE_48</th>\n",
       "      <th>CLUSTYPE_49</th>\n",
       "      <th>CLUSTYPE_50</th>\n",
       "    </tr>\n",
       "  </thead>\n",
       "  <tbody>\n",
       "    <tr>\n",
       "      <th>0</th>\n",
       "      <td>9955600066402</td>\n",
       "      <td>1001</td>\n",
       "      <td>208</td>\n",
       "      <td>2</td>\n",
       "      <td>368.46</td>\n",
       "      <td>0</td>\n",
       "      <td>184.23</td>\n",
       "      <td>11</td>\n",
       "      <td>0.18</td>\n",
       "      <td>0.00</td>\n",
       "      <td>...</td>\n",
       "      <td>0</td>\n",
       "      <td>0</td>\n",
       "      <td>0</td>\n",
       "      <td>0</td>\n",
       "      <td>0</td>\n",
       "      <td>0</td>\n",
       "      <td>0</td>\n",
       "      <td>0</td>\n",
       "      <td>0</td>\n",
       "      <td>0</td>\n",
       "    </tr>\n",
       "    <tr>\n",
       "      <th>1</th>\n",
       "      <td>9955600073501</td>\n",
       "      <td>1028</td>\n",
       "      <td>6</td>\n",
       "      <td>4</td>\n",
       "      <td>258.00</td>\n",
       "      <td>1</td>\n",
       "      <td>64.50</td>\n",
       "      <td>11</td>\n",
       "      <td>0.26</td>\n",
       "      <td>0.16</td>\n",
       "      <td>...</td>\n",
       "      <td>0</td>\n",
       "      <td>0</td>\n",
       "      <td>0</td>\n",
       "      <td>0</td>\n",
       "      <td>0</td>\n",
       "      <td>0</td>\n",
       "      <td>0</td>\n",
       "      <td>0</td>\n",
       "      <td>0</td>\n",
       "      <td>0</td>\n",
       "    </tr>\n",
       "    <tr>\n",
       "      <th>2</th>\n",
       "      <td>9955600076313</td>\n",
       "      <td>1056</td>\n",
       "      <td>327</td>\n",
       "      <td>2</td>\n",
       "      <td>77.00</td>\n",
       "      <td>0</td>\n",
       "      <td>38.50</td>\n",
       "      <td>11</td>\n",
       "      <td>1.00</td>\n",
       "      <td>0.00</td>\n",
       "      <td>...</td>\n",
       "      <td>0</td>\n",
       "      <td>0</td>\n",
       "      <td>0</td>\n",
       "      <td>0</td>\n",
       "      <td>0</td>\n",
       "      <td>0</td>\n",
       "      <td>0</td>\n",
       "      <td>0</td>\n",
       "      <td>0</td>\n",
       "      <td>0</td>\n",
       "    </tr>\n",
       "    <tr>\n",
       "      <th>3</th>\n",
       "      <td>9955600078045</td>\n",
       "      <td>1118</td>\n",
       "      <td>66</td>\n",
       "      <td>8</td>\n",
       "      <td>846.06</td>\n",
       "      <td>1</td>\n",
       "      <td>105.75</td>\n",
       "      <td>11</td>\n",
       "      <td>0.38</td>\n",
       "      <td>0.00</td>\n",
       "      <td>...</td>\n",
       "      <td>0</td>\n",
       "      <td>0</td>\n",
       "      <td>0</td>\n",
       "      <td>0</td>\n",
       "      <td>0</td>\n",
       "      <td>0</td>\n",
       "      <td>0</td>\n",
       "      <td>0</td>\n",
       "      <td>0</td>\n",
       "      <td>0</td>\n",
       "    </tr>\n",
       "    <tr>\n",
       "      <th>4</th>\n",
       "      <td>9955600078517</td>\n",
       "      <td>1107</td>\n",
       "      <td>49</td>\n",
       "      <td>1</td>\n",
       "      <td>87.44</td>\n",
       "      <td>0</td>\n",
       "      <td>87.44</td>\n",
       "      <td>11</td>\n",
       "      <td>0.20</td>\n",
       "      <td>0.20</td>\n",
       "      <td>...</td>\n",
       "      <td>0</td>\n",
       "      <td>0</td>\n",
       "      <td>0</td>\n",
       "      <td>0</td>\n",
       "      <td>0</td>\n",
       "      <td>0</td>\n",
       "      <td>0</td>\n",
       "      <td>0</td>\n",
       "      <td>0</td>\n",
       "      <td>0</td>\n",
       "    </tr>\n",
       "  </tbody>\n",
       "</table>\n",
       "<p>5 rows × 101 columns</p>\n",
       "</div>"
      ],
      "text/plain": [
       "           HHKEY  ZIP_CODE  REC  FRE     MON  CC_CARD    AVRG  PC_CALC20  \\\n",
       "0  9955600066402      1001  208    2  368.46        0  184.23         11   \n",
       "1  9955600073501      1028    6    4  258.00        1   64.50         11   \n",
       "2  9955600076313      1056  327    2   77.00        0   38.50         11   \n",
       "3  9955600078045      1118   66    8  846.06        1  105.75         11   \n",
       "4  9955600078517      1107   49    1   87.44        0   87.44         11   \n",
       "\n",
       "   PSWEATERS  PKNIT_TOPS     ...       CLUSTYPE_41  CLUSTYPE_42  CLUSTYPE_43  \\\n",
       "0       0.18        0.00     ...                 0            0            0   \n",
       "1       0.26        0.16     ...                 0            0            0   \n",
       "2       1.00        0.00     ...                 0            0            0   \n",
       "3       0.38        0.00     ...                 0            0            0   \n",
       "4       0.20        0.20     ...                 0            0            0   \n",
       "\n",
       "   CLUSTYPE_44  CLUSTYPE_45  CLUSTYPE_46  CLUSTYPE_47  CLUSTYPE_48  \\\n",
       "0            0            0            0            0            0   \n",
       "1            0            0            0            0            0   \n",
       "2            0            0            0            0            0   \n",
       "3            0            0            0            0            0   \n",
       "4            0            0            0            0            0   \n",
       "\n",
       "   CLUSTYPE_49  CLUSTYPE_50  \n",
       "0            0            0  \n",
       "1            0            0  \n",
       "2            0            0  \n",
       "3            0            0  \n",
       "4            0            0  \n",
       "\n",
       "[5 rows x 101 columns]"
      ]
     },
     "execution_count": 5,
     "metadata": {},
     "output_type": "execute_result"
    }
   ],
   "source": [
    "print(clothingFileLR.shape)\n",
    "clothingFileLR.head()"
   ]
  },
  {
   "cell_type": "code",
   "execution_count": 6,
   "metadata": {
    "collapsed": true
   },
   "outputs": [],
   "source": [
    "# Remove Customer ID dimension - Unique values\n",
    "clothingFileLR.drop(['HHKEY'],axis=1,inplace=True)"
   ]
  },
  {
   "cell_type": "code",
   "execution_count": 7,
   "metadata": {
    "collapsed": true
   },
   "outputs": [],
   "source": [
    "# Remove Target Variable\n",
    "clothingFileLRnoRESP = clothingFileLR.drop(['RESP'],axis=1)"
   ]
  },
  {
   "cell_type": "markdown",
   "metadata": {},
   "source": [
    "### Training and Test Datasets\n",
    "\n",
    "When fitting models, we want to ensure...\n",
    "- We have found the best parameters for our model, and therefore, the best model.\n",
    "- The model is highly likely to predict well on unseen data.\n",
    "\n",
    "To do this, we will split the data into a training set and a test set. We will train the model on the training set and test the model's accuracy on the test set."
   ]
  },
  {
   "cell_type": "code",
   "execution_count": 8,
   "metadata": {},
   "outputs": [
    {
     "name": "stdout",
     "output_type": "stream",
     "text": [
      "('X: ', <type 'numpy.ndarray'>, (21740, 99))\n"
     ]
    }
   ],
   "source": [
    "# Create the first parameter of train_test_split - a matrix\n",
    "columnNames = list(clothingFileLRnoRESP)\n",
    "X = clothingFileLRnoRESP[columnNames].values\n",
    "print(\"X: \", type(X), X.shape)"
   ]
  },
  {
   "cell_type": "code",
   "execution_count": 9,
   "metadata": {},
   "outputs": [
    {
     "name": "stdout",
     "output_type": "stream",
     "text": [
      "('y: ', <type 'numpy.ndarray'>, (21740, 1))\n"
     ]
    }
   ],
   "source": [
    "# Create the second parameter - each customers' response to the promotion\n",
    "y = clothingFileLR[['RESP']].values\n",
    "print(\"y: \", type(y), y.shape)"
   ]
  },
  {
   "cell_type": "markdown",
   "metadata": {},
   "source": [
    "X and y have the following relationships...\n",
    "\n",
    "1. They have the same number of rows\n",
    "2. For a given row i of matrix X, the label that corresponds to that data point is exactly the value of vector y at that row\n",
    "3. The number of rows of X is the number of data points in the dataset\n",
    "4. The number of columns of X is the number of features of each data point in the dataset"
   ]
  },
  {
   "cell_type": "code",
   "execution_count": 10,
   "metadata": {
    "collapsed": true
   },
   "outputs": [],
   "source": [
    "# Split the data into a training set and a test set\n",
    "Xtrain, Xtest, ytrain, ytest = train_test_split(X, y,random_state=5)"
   ]
  },
  {
   "cell_type": "code",
   "execution_count": 11,
   "metadata": {},
   "outputs": [
    {
     "name": "stdout",
     "output_type": "stream",
     "text": [
      "\n",
      "\n",
      "('Xtrain:', array([[  7.86410000e+04,   1.17000000e+02,   3.00000000e+00, ...,\n",
      "          0.00000000e+00,   0.00000000e+00,   0.00000000e+00],\n",
      "       [  7.87090000e+04,   1.60000000e+01,   3.00000000e+00, ...,\n",
      "          0.00000000e+00,   0.00000000e+00,   1.00000000e+00],\n",
      "       [  4.41460000e+04,   8.00000000e+00,   1.60000000e+01, ...,\n",
      "          0.00000000e+00,   0.00000000e+00,   0.00000000e+00],\n",
      "       ..., \n",
      "       [  9.17920000e+04,   3.45000000e+02,   1.00000000e+00, ...,\n",
      "          0.00000000e+00,   0.00000000e+00,   0.00000000e+00],\n",
      "       [  7.70840000e+04,   5.80000000e+01,   7.00000000e+00, ...,\n",
      "          0.00000000e+00,   0.00000000e+00,   0.00000000e+00],\n",
      "       [  2.08540000e+04,   2.90000000e+01,   1.00000000e+01, ...,\n",
      "          0.00000000e+00,   0.00000000e+00,   0.00000000e+00]]), <type 'numpy.ndarray'>, (16305, 99), 16305)\n",
      "\n",
      "\n",
      "('Xtest', array([[  9.00370000e+04,   3.50000000e+01,   2.00000000e+00, ...,\n",
      "          0.00000000e+00,   0.00000000e+00,   0.00000000e+00],\n",
      "       [  7.12700000e+04,   1.57000000e+02,   4.00000000e+00, ...,\n",
      "          0.00000000e+00,   0.00000000e+00,   0.00000000e+00],\n",
      "       [  6.00500000e+04,   1.76000000e+02,   1.00000000e+00, ...,\n",
      "          0.00000000e+00,   0.00000000e+00,   0.00000000e+00],\n",
      "       ..., \n",
      "       [  7.22050000e+04,   9.60000000e+01,   1.00000000e+00, ...,\n",
      "          0.00000000e+00,   0.00000000e+00,   0.00000000e+00],\n",
      "       [  6.01260000e+04,   2.50000000e+01,   2.00000000e+00, ...,\n",
      "          0.00000000e+00,   0.00000000e+00,   0.00000000e+00],\n",
      "       [  6.01530000e+04,   2.60000000e+02,   1.00000000e+00, ...,\n",
      "          0.00000000e+00,   0.00000000e+00,   0.00000000e+00]]), <type 'numpy.ndarray'>, (5435, 99), 5435)\n",
      "\n",
      "\n",
      "('ytrain', array([[0],\n",
      "       [0],\n",
      "       [1],\n",
      "       ..., \n",
      "       [0],\n",
      "       [0],\n",
      "       [0]]), <type 'numpy.ndarray'>, (16305, 1), 16305)\n",
      "\n",
      "\n",
      "('ytest', array([[0],\n",
      "       [0],\n",
      "       [0],\n",
      "       ..., \n",
      "       [0],\n",
      "       [0],\n",
      "       [0]]), <type 'numpy.ndarray'>, (5435, 1), 5435)\n"
     ]
    }
   ],
   "source": [
    "#By default train_test_split splits to 75% train and 25% test\n",
    "#Setting the Random State to a fixed number will guarantee that the output of Run 1 will be equal to the output\n",
    "#of Run 2, i.e. your split will be always the same\n",
    "\n",
    "# Look at the objects the split returned...\n",
    "\n",
    "# Xtrain\n",
    "print(\"\\n\")\n",
    "print(\"Xtrain:\", Xtrain, type(Xtrain), Xtrain.shape, len(Xtrain))\n",
    "\n",
    "# Xtest\n",
    "print(\"\\n\")\n",
    "print(\"Xtest\", Xtest, type(Xtest), Xtest.shape, len(Xtest))\n",
    "\n",
    "# ytrain\n",
    "print(\"\\n\")\n",
    "print(\"ytrain\", ytrain, type(ytrain), ytrain.shape, len(ytrain))\n",
    "\n",
    "# ytest:\n",
    "print(\"\\n\")\n",
    "print(\"ytest\", ytest, type(ytest), ytest.shape, len(ytest))"
   ]
  },
  {
   "cell_type": "markdown",
   "metadata": {},
   "source": [
    "### Logistic Regression"
   ]
  },
  {
   "cell_type": "markdown",
   "metadata": {},
   "source": [
    "As expected, the split is 75% train and 25% test data."
   ]
  },
  {
   "cell_type": "code",
   "execution_count": 12,
   "metadata": {},
   "outputs": [
    {
     "name": "stderr",
     "output_type": "stream",
     "text": [
      "/anaconda2/lib/python2.7/site-packages/sklearn/utils/validation.py:547: DataConversionWarning: A column-vector y was passed when a 1d array was expected. Please change the shape of y to (n_samples, ), for example using ravel().\n",
      "  y = column_or_1d(y, warn=True)\n"
     ]
    },
    {
     "name": "stdout",
     "output_type": "stream",
     "text": [
      "\n",
      "\n",
      "('[Training] Accuracy score: (y_predict_training,ytrain)', 0.85194725544311556)\n",
      "\n",
      "\n",
      "('[Test] Accuracy score (y_predict_test, ytest):', 0.84765409383624657)\n"
     ]
    }
   ],
   "source": [
    "# Construct the Logistic Regression model\n",
    "clf = LogisticRegression()\n",
    "\n",
    "# Fit the model on the training data\n",
    "clf.fit(Xtrain, ytrain) \n",
    "\n",
    "# Print the training score\n",
    "y_predict_training = clf.predict(Xtrain)\n",
    "print(\"\\n\")\n",
    "print(\"[Training] Accuracy score: (y_predict_training,ytrain)\",accuracy_score(y_predict_training,ytrain))\n",
    "\n",
    "# Print the accuracy from the testing data\n",
    "y_predict_test = clf.predict(Xtest)\n",
    "print(\"\\n\")\n",
    "print(\"[Test] Accuracy score (y_predict_test, ytest):\",accuracy_score(y_predict_test, ytest))"
   ]
  },
  {
   "cell_type": "markdown",
   "metadata": {
    "collapsed": true
   },
   "source": [
    "Training accuracy: The model's training accuracy is pretty good at 85.1947%, which indicates there is no bias in the model.\n",
    "\n",
    "Test accuracy: The test accuracy and the training accuracy have fairly close scores, so there is no variance between the two. This is good because it indicates the model will generalize well. Meaning when new data is presented, the model will perform similarly.\n",
    "\n",
    "The lack of bias and variance are two desirable and important characteristics. Classification accuracy is best used when treating the entire population. It weights all errors equally and lumps them into one group. The issue is there may be different tolerances for different errors. For example, if Threads wanted to be sure to reach *all* customers who are predicted to respond to the promotion (no Type I errors), and they did not mind sending the promotion to \"extra\" customers who will not respond (some Type II errors) then we will want to look at other metrics."
   ]
  },
  {
   "cell_type": "code",
   "execution_count": 13,
   "metadata": {},
   "outputs": [
    {
     "name": "stdout",
     "output_type": "stream",
     "text": [
      "[Training Classification Report:]\n",
      "             precision    recall  f1-score   support\n",
      "\n",
      "          0       0.86      0.98      0.92     13615\n",
      "          1       0.66      0.21      0.32      2690\n",
      "\n",
      "avg / total       0.83      0.85      0.82     16305\n",
      "\n",
      "[Test Classification Report:]\n",
      "             precision    recall  f1-score   support\n",
      "\n",
      "          0       0.86      0.98      0.91      4514\n",
      "          1       0.65      0.21      0.32       921\n",
      "\n",
      "avg / total       0.82      0.85      0.81      5435\n",
      "\n"
     ]
    }
   ],
   "source": [
    "# More comprehensive performance analysis\n",
    "\n",
    "print(\"[Training Classification Report:]\")\n",
    "print(classification_report(ytrain, y_predict_training))\n",
    "\n",
    "print(\"[Test Classification Report:]\")\n",
    "print(classification_report(ytest, y_predict_test))"
   ]
  },
  {
   "cell_type": "markdown",
   "metadata": {},
   "source": [
    "Precision: Precision is the number of true positive results divided by the number of total (true and false) positive results. It measures the quality of the classification.\n",
    "\n",
    "Recall: Recall is the number of true positive results divided by the true positives and false negatives (items that should've been in the positive class, but were not). This is a measure of completeness.\n",
    "\n",
    "f1 Score: The F1 score is a weighted average of the precision and recall. An F1 score reaches its best value at 1 and worst score at 0.\n",
    "\n",
    "Support: The number of occurences in each class.\n",
    "\n",
    "The results are similar between the training and test sets, so we will focus on the test data metrics. For the test data, the precision is 86% for the Non-Responsive customers and 65% for the Responsive customers. The recall is 98% for the Non-Responsive customers and only **21% for the Responsive customers, meaning it is missing many of the customers who should be marked as responsive**."
   ]
  },
  {
   "cell_type": "markdown",
   "metadata": {
    "collapsed": true
   },
   "source": [
    "### Tuning the Logistic Regression Model\n",
    "\n",
    "We will now tune some hyperparameters to hopefully improve performance. We will use cross-validation. In Logistic Regression, the most important parameter to tune is the regularization parameter C. The regularization parameter is used to control for unlikely high regression coefficients, and in other cases can be used when data is sparse, as a method of feature selection.\n",
    "\n",
    "We use the following cv_score function to perform K-fold cross-validation and apply a scoring function to each test fold. In this incarnation we use accuracy score as the default scoring function."
   ]
  },
  {
   "cell_type": "code",
   "execution_count": 14,
   "metadata": {
    "collapsed": true
   },
   "outputs": [],
   "source": [
    "def cv_score(clf, x, y, score_func=accuracy_score):\n",
    "    result = 0\n",
    "    nfold = 5\n",
    "    for train, test in KFold(nfold).split(x): # split data into train/test groups, 5 times\n",
    "        clf.fit(x[train], y[train]) # fit\n",
    "        result += score_func(clf.predict(x[test]), y[test]) # evaluate score function on held-out data\n",
    "    return result / nfold # average"
   ]
  },
  {
   "cell_type": "markdown",
   "metadata": {},
   "source": [
    "Below is an example of using the cv_score function for a basic logistic regression model without regularization."
   ]
  },
  {
   "cell_type": "code",
   "execution_count": 15,
   "metadata": {},
   "outputs": [
    {
     "name": "stdout",
     "output_type": "stream",
     "text": [
      "0.851456608402\n"
     ]
    }
   ],
   "source": [
    "clf = LogisticRegression()\n",
    "score = cv_score(clf, Xtrain, ytrain)\n",
    "print(score)"
   ]
  },
  {
   "cell_type": "markdown",
   "metadata": {},
   "source": [
    "Below is a list of C values. For each value of C, we will use the training set to create a logistic regression model and find the average score for the model. We will then pick the C with the highest average score."
   ]
  },
  {
   "cell_type": "code",
   "execution_count": 16,
   "metadata": {},
   "outputs": [
    {
     "name": "stdout",
     "output_type": "stream",
     "text": [
      "0.851824593683 10\n"
     ]
    }
   ],
   "source": [
    "# The list of C values\n",
    "Cs = [0.001, 0.1, 1, 10, 100]\n",
    "\n",
    "max_score = 0\n",
    "\n",
    "for C in Cs:\n",
    "        clf = LogisticRegression(C=C)\n",
    "        score = cv_score(clf, Xtrain, ytrain)\n",
    "\n",
    "        if score > max_score:\n",
    "            max_score = score\n",
    "            best_C = C\n",
    "print max_score, best_C"
   ]
  },
  {
   "cell_type": "markdown",
   "metadata": {},
   "source": [
    "Now we will test on the test set."
   ]
  },
  {
   "cell_type": "code",
   "execution_count": 17,
   "metadata": {},
   "outputs": [
    {
     "data": {
      "text/plain": [
       "0.84783808647654091"
      ]
     },
     "execution_count": 17,
     "metadata": {},
     "output_type": "execute_result"
    }
   ],
   "source": [
    "clfl = LogisticRegression(C=best_C)\n",
    "clfl.fit(Xtrain, ytrain)\n",
    "ypred = clfl.predict(Xtest)\n",
    "accuracy_score(ypred, ytest)"
   ]
  },
  {
   "cell_type": "markdown",
   "metadata": {},
   "source": [
    "Run the Classification Report with the \"best\" C value (C=10)."
   ]
  },
  {
   "cell_type": "code",
   "execution_count": 18,
   "metadata": {},
   "outputs": [
    {
     "name": "stdout",
     "output_type": "stream",
     "text": [
      "[Test Classification Report with C=10:]\n",
      "             precision    recall  f1-score   support\n",
      "\n",
      "          0       0.86      0.98      0.91      4514\n",
      "          1       0.66      0.21      0.32       921\n",
      "\n",
      "avg / total       0.82      0.85      0.81      5435\n",
      "\n"
     ]
    }
   ],
   "source": [
    "print(\"[Test Classification Report with C=10:]\")\n",
    "print(classification_report(ytest, ypred))"
   ]
  },
  {
   "cell_type": "markdown",
   "metadata": {},
   "source": [
    "The Classification Report shows the metrics improved very little. Most importantly, the Recall for the '1' or Responsive group did not improve at all. The Recall score will most likely not improve much more with further tuning because there is a large imbalance in the size of the groups. It is difficult to capture all of the responsive customers when there is such a small number within the dataset.\n",
    "\n",
    "We will now move on to Random Forest."
   ]
  },
  {
   "cell_type": "markdown",
   "metadata": {},
   "source": [
    "### Random Forest Model"
   ]
  },
  {
   "cell_type": "code",
   "execution_count": 19,
   "metadata": {},
   "outputs": [
    {
     "data": {
      "text/plain": [
       "0.84250229990800363"
      ]
     },
     "execution_count": 19,
     "metadata": {},
     "output_type": "execute_result"
    }
   ],
   "source": [
    "# Create the Random Forest model\n",
    "rfCLF = RandomForestClassifier()\n",
    "# Train the Random Forest model on training data\n",
    "rfCLF.fit(Xtrain, ytrain.ravel())\n",
    "\n",
    "# Test Random Forest model on the test data\n",
    "ypredRF = rfCLF.predict(Xtest)\n",
    "accuracy_score(ypredRF, ytest)"
   ]
  },
  {
   "cell_type": "code",
   "execution_count": 20,
   "metadata": {},
   "outputs": [
    {
     "name": "stdout",
     "output_type": "stream",
     "text": [
      "[Test Classification Report from Random Forest:]\n",
      "             precision    recall  f1-score   support\n",
      "\n",
      "          0       0.86      0.97      0.91      4514\n",
      "          1       0.60      0.20      0.31       921\n",
      "\n",
      "avg / total       0.81      0.84      0.81      5435\n",
      "\n"
     ]
    }
   ],
   "source": [
    "print(\"[Test Classification Report from Random Forest:]\")\n",
    "print(classification_report(ytest, ypredRF))"
   ]
  },
  {
   "cell_type": "markdown",
   "metadata": {
    "collapsed": true
   },
   "source": [
    "The Random Forest Classification Report shows a slight decline in the Recall for the Non-Responsive group, and the Precision for the Responsive group. The Recall for the Responsive customers increased by two percentage points. We will now tune the model to see if we can gain more improvement."
   ]
  },
  {
   "cell_type": "markdown",
   "metadata": {},
   "source": [
    "### Tuning the Random Forest Model\n",
    "\n",
    "We will now tune the hyperparameters for the Random Forest Model. There are many parameters to choose from, so we will use Scikit-Learn’s GridSearchCV method to evaluate combinations from the grid defined below."
   ]
  },
  {
   "cell_type": "code",
   "execution_count": 21,
   "metadata": {
    "collapsed": true
   },
   "outputs": [],
   "source": [
    "# Create the parameter grid \n",
    "param_grid = {\n",
    "    'n_estimators': [200, 300, 400],\n",
    "    'max_features': [None, 'sqrt', 'log2'],\n",
    "    'max_depth': [None, 50, 100, 150]\n",
    "}\n",
    "\n",
    "# Instantiate the grid search model\n",
    "grid_search = GridSearchCV(estimator = rfCLF, param_grid = param_grid)"
   ]
  },
  {
   "cell_type": "code",
   "execution_count": 22,
   "metadata": {
    "collapsed": true
   },
   "outputs": [],
   "source": [
    "# Fit the grid search to the data\n",
    "#grid_search.fit(Xtrain, ytrain.ravel())\n",
    "#grid_search.best_params_"
   ]
  },
  {
   "cell_type": "code",
   "execution_count": 23,
   "metadata": {},
   "outputs": [
    {
     "data": {
      "text/plain": [
       "0.85243790248390061"
      ]
     },
     "execution_count": 23,
     "metadata": {},
     "output_type": "execute_result"
    }
   ],
   "source": [
    "# Re-create the model with the \"best\" parameters of 'max_depth'=None,'max_features'=None,'n_estimators'=200\n",
    "rfCLF1 = RandomForestClassifier(n_estimators=200,max_features=None,max_depth=None)\n",
    "# Train the updated Random Forest model on training data\n",
    "rfCLF1.fit(Xtrain, ytrain.ravel())\n",
    "\n",
    "# Test updated Random Forest model on the test data\n",
    "ypredRF1 = rfCLF1.predict(Xtest)\n",
    "accuracy_score(ypredRF1, ytest)"
   ]
  },
  {
   "cell_type": "code",
   "execution_count": 24,
   "metadata": {},
   "outputs": [
    {
     "name": "stdout",
     "output_type": "stream",
     "text": [
      "[Test Classification Report from Updated Random Forest:]\n",
      "             precision    recall  f1-score   support\n",
      "\n",
      "          0       0.87      0.97      0.92      4514\n",
      "          1       0.64      0.30      0.40       921\n",
      "\n",
      "avg / total       0.83      0.85      0.83      5435\n",
      "\n"
     ]
    }
   ],
   "source": [
    "print(\"[Test Classification Report from Updated Random Forest:]\")\n",
    "print(classification_report(ytest, ypredRF1))"
   ]
  },
  {
   "cell_type": "markdown",
   "metadata": {},
   "source": [
    "The Classification Report for the tuned model looks better, but the Responsive Recall is still very low at 30%. The imbalanced classes make it difficult for the model to accurately capture the Responsive group. The Responsive group is too small (16-17% of the total dataset). We will now move to Resampling to try and compensate for the imbalance and improve the model."
   ]
  },
  {
   "cell_type": "markdown",
   "metadata": {
    "collapsed": true
   },
   "source": [
    "### Resampling\n",
    "\n",
    "Resampling attempts to balance the class size. Oversampling randomly replicates the minority class to increase the population. Undersampling randomly reduces the majority class to decrease the population size. There are arguments for both methods. We will perform both Logistic Regression and Random Forest on an Oversampled dataset and an Undersampled dataset to compare the results.\n",
    "\n",
    "#### Oversampling\n",
    "\n",
    "We will oversample using the SMOTE (Synthetic Minority Oversampling Technique) algorithm. SMOTE finds the k-nearest neighbors of the minority dataset and uses those to create random similar observations. Oversampling can be done before or after the train/test split. The concern with oversampling before the split is \"bleeding\" the synthetic data into the test set. This would train the model to better predict the test set than a new dataset. For this reason, we will perform the oversampling after the train/test split."
   ]
  },
  {
   "cell_type": "code",
   "execution_count": 25,
   "metadata": {},
   "outputs": [
    {
     "name": "stdout",
     "output_type": "stream",
     "text": [
      "Resampled dataset shape Counter({0: 13615, 1: 13615})\n"
     ]
    }
   ],
   "source": [
    "# Oversampling with SMOTE\n",
    "sm = SMOTE(random_state=42)\n",
    "X_Ores, y_Ores = sm.fit_sample(Xtrain, ytrain)\n",
    "print('Resampled dataset shape {}'.format(Counter(y_Ores)))"
   ]
  },
  {
   "cell_type": "code",
   "execution_count": 26,
   "metadata": {},
   "outputs": [
    {
     "name": "stdout",
     "output_type": "stream",
     "text": [
      "\n",
      "\n",
      "('[Training] Accuracy score: (y_predict_trainingLRO,y_Ores)', 0.77238340066103561)\n",
      "\n",
      "\n",
      "('[Test] Accuracy score (y_predict_testLRO, y_Ores):', 0.7243790248390064)\n"
     ]
    }
   ],
   "source": [
    "# Oversampled data with Logistic Regression\n",
    "clfO = LogisticRegression()\n",
    "\n",
    "# Fit the model on the training data\n",
    "clfO.fit(X_Ores, y_Ores) \n",
    "\n",
    "# Print the training score\n",
    "y_predict_trainingLRO = clfO.predict(X_Ores)\n",
    "print(\"\\n\")\n",
    "print(\"[Training] Accuracy score: (y_predict_trainingLRO,y_Ores)\",accuracy_score(y_predict_trainingLRO,y_Ores))\n",
    "\n",
    "# Print the accuracy from the testing data\n",
    "y_predict_testLRO = clfO.predict(Xtest)\n",
    "print(\"\\n\")\n",
    "print(\"[Test] Accuracy score (y_predict_testLRO, y_Ores):\",accuracy_score(y_predict_testLRO, ytest))"
   ]
  },
  {
   "cell_type": "code",
   "execution_count": 27,
   "metadata": {},
   "outputs": [
    {
     "name": "stdout",
     "output_type": "stream",
     "text": [
      "[Training Classification Report:]\n",
      "             precision    recall  f1-score   support\n",
      "\n",
      "          0       0.82      0.70      0.75     13615\n",
      "          1       0.74      0.84      0.79     13615\n",
      "\n",
      "avg / total       0.78      0.77      0.77     27230\n",
      "\n",
      "[Test Classification Report:]\n",
      "             precision    recall  f1-score   support\n",
      "\n",
      "          0       0.95      0.70      0.81      4514\n",
      "          1       0.36      0.82      0.50       921\n",
      "\n",
      "avg / total       0.85      0.72      0.76      5435\n",
      "\n"
     ]
    }
   ],
   "source": [
    "# More comprehensive performance analysis of Oversampled Logistic Regression Model\n",
    "\n",
    "print(\"[Training Classification Report:]\")\n",
    "print(classification_report(y_Ores, y_predict_trainingLRO))\n",
    "\n",
    "print(\"[Test Classification Report:]\")\n",
    "print(classification_report(ytest, y_predict_testLRO))"
   ]
  },
  {
   "cell_type": "markdown",
   "metadata": {},
   "source": [
    "The Test Classification Report shows improved percentages for the precision of the non-responsive group and the recall of the responsive group, but decreased percentages for the recall for the non-responsive group and the precision of the responsive group.\n",
    "\n",
    "Precision is measuring how many of the predictions the model made correctly. The precision for the non-responsive group is high at 95%. The precision for the non-responsive group is low at 36% - there were many false positives for the non-responsive group.\n",
    "\n",
    "The recall is looking at how many positive cases the model missed. The non-responsive group recall is 70%; 30% of the positive results are being missed. The responsive group recall is 82%. This is a large improvement from the previous models.\n",
    "\n",
    "We will now tune the regularization parameter C to test if it improves the model. For each value of C, we will use the training set to create a logistic regression model and find the average score for the model. We will then pick the C with the highest average score."
   ]
  },
  {
   "cell_type": "code",
   "execution_count": 28,
   "metadata": {},
   "outputs": [
    {
     "name": "stdout",
     "output_type": "stream",
     "text": [
      "0.677157546823 10\n"
     ]
    }
   ],
   "source": [
    "# The list of C values\n",
    "Cs = [0.001, 0.1, 1, 10, 100]\n",
    "\n",
    "max_score = 0\n",
    "\n",
    "for C in Cs:\n",
    "        clfLROR = LogisticRegression(C=C)\n",
    "        score = cv_score(clfLROR, X_Ores, y_Ores)\n",
    "\n",
    "        if score > max_score:\n",
    "            max_score = score\n",
    "            best_C = C\n",
    "print max_score, best_C"
   ]
  },
  {
   "cell_type": "markdown",
   "metadata": {},
   "source": [
    "Now test the C with the highest average score on the test set."
   ]
  },
  {
   "cell_type": "code",
   "execution_count": 29,
   "metadata": {},
   "outputs": [
    {
     "data": {
      "text/plain": [
       "0.72419503219871206"
      ]
     },
     "execution_count": 29,
     "metadata": {},
     "output_type": "execute_result"
    }
   ],
   "source": [
    "clflLROR = LogisticRegression(C=best_C)\n",
    "clflLROR.fit(X_Ores, y_Ores)\n",
    "ypredLROR = clflLROR.predict(Xtest)\n",
    "accuracy_score(ypredLROR, ytest)"
   ]
  },
  {
   "cell_type": "markdown",
   "metadata": {},
   "source": [
    "Classification Report with the \"best\" value of C"
   ]
  },
  {
   "cell_type": "code",
   "execution_count": 30,
   "metadata": {},
   "outputs": [
    {
     "name": "stdout",
     "output_type": "stream",
     "text": [
      "[Test Classification Report with C=10:]\n",
      "             precision    recall  f1-score   support\n",
      "\n",
      "          0       0.95      0.70      0.81      4514\n",
      "          1       0.36      0.82      0.50       921\n",
      "\n",
      "avg / total       0.85      0.72      0.76      5435\n",
      "\n"
     ]
    }
   ],
   "source": [
    "print(\"[Test Classification Report with C=10:]\")\n",
    "print(classification_report(ytest, ypredLROR))"
   ]
  },
  {
   "cell_type": "markdown",
   "metadata": {},
   "source": [
    "There is no change in the metrics with the Logistic Regression hyper-parameterization."
   ]
  },
  {
   "cell_type": "code",
   "execution_count": 31,
   "metadata": {},
   "outputs": [
    {
     "data": {
      "text/plain": [
       "0.81968721251149956"
      ]
     },
     "execution_count": 31,
     "metadata": {},
     "output_type": "execute_result"
    }
   ],
   "source": [
    "# Oversampled data with Random Forest Model\n",
    "OrfCLF = RandomForestClassifier()\n",
    "\n",
    "# Train the Random Forest model on oversampled training data\n",
    "OrfCLF.fit(X_Ores, y_Ores)\n",
    "\n",
    "# Test Random Forest model on the test data\n",
    "ypredORF = OrfCLF.predict(Xtest)\n",
    "accuracy_score(ypredORF, ytest)"
   ]
  },
  {
   "cell_type": "code",
   "execution_count": 32,
   "metadata": {},
   "outputs": [
    {
     "name": "stdout",
     "output_type": "stream",
     "text": [
      "[Test Classification Report from Random Forest:]\n",
      "             precision    recall  f1-score   support\n",
      "\n",
      "          0       0.87      0.92      0.89      4514\n",
      "          1       0.46      0.34      0.39       921\n",
      "\n",
      "avg / total       0.80      0.82      0.81      5435\n",
      "\n"
     ]
    }
   ],
   "source": [
    "# Classification report for oversampled Random Forest Model\n",
    "print(\"[Test Classification Report from Random Forest:]\")\n",
    "print(classification_report(ytest, ypredORF))"
   ]
  },
  {
   "cell_type": "markdown",
   "metadata": {},
   "source": [
    "The random forest model using the oversampled data favors the non-responsive group. The precision and recall for the non-responsive group are 87% and 97%, respectively. The responsive group precision and recall are 48% and 35%, respectively. It seems that the model is just marking most as non-responsive. We will now tune the model to see if we can improve the metrics.\n",
    "\n",
    "### Tune Oversampled Random Forest Model"
   ]
  },
  {
   "cell_type": "code",
   "execution_count": 33,
   "metadata": {
    "collapsed": true
   },
   "outputs": [],
   "source": [
    "# Use the same parameter grid \n",
    "param_grid = {\n",
    "    'n_estimators': [200, 300, 400],\n",
    "    'max_features': [None, 'sqrt', 'log2'],\n",
    "    'max_depth': [None, 50, 100, 150]\n",
    "}\n",
    "\n",
    "# Instantiate the grid search model\n",
    "grid_searchO = GridSearchCV(estimator = OrfCLF, param_grid = param_grid)"
   ]
  },
  {
   "cell_type": "code",
   "execution_count": 34,
   "metadata": {
    "collapsed": true
   },
   "outputs": [],
   "source": [
    "# Fit the grid search to the oversampled data\n",
    "#grid_searchO.fit(X_Ores, y_Ores.ravel())\n",
    "#grid_searchO.best_params_"
   ]
  },
  {
   "cell_type": "code",
   "execution_count": 35,
   "metadata": {},
   "outputs": [
    {
     "data": {
      "text/plain": [
       "0.82999080036798523"
      ]
     },
     "execution_count": 35,
     "metadata": {},
     "output_type": "execute_result"
    }
   ],
   "source": [
    "# Re-create the model with the \"best\" parameters of 'max_depth'=None,'max_features'=None,'n_estimators'=200\n",
    "OrfCLF1 = RandomForestClassifier(n_estimators=400,max_features='log2',max_depth=50)\n",
    "# Train the updated Random Forest model on oversampled training data\n",
    "OrfCLF1.fit(X_Ores, y_Ores.ravel())\n",
    "\n",
    "# Test updated Random Forest model on the test data\n",
    "ypredORF1 = OrfCLF1.predict(Xtest)\n",
    "accuracy_score(ypredORF1, ytest)"
   ]
  },
  {
   "cell_type": "code",
   "execution_count": 36,
   "metadata": {},
   "outputs": [
    {
     "name": "stdout",
     "output_type": "stream",
     "text": [
      "[Test Classification Report from Updated Random Forest:]\n",
      "             precision    recall  f1-score   support\n",
      "\n",
      "          0       0.88      0.92      0.90      4514\n",
      "          1       0.50      0.41      0.45       921\n",
      "\n",
      "avg / total       0.82      0.83      0.82      5435\n",
      "\n"
     ]
    }
   ],
   "source": [
    "print(\"[Test Classification Report from Updated Random Forest:]\")\n",
    "print(classification_report(ytest, ypredORF1))"
   ]
  },
  {
   "cell_type": "markdown",
   "metadata": {},
   "source": [
    "#### Undersampling\n",
    "\n",
    "We will undersample using the Random Undersampling technique. Random Undersampling seeks to balance the classes by randomly eliminating observations from the majority class."
   ]
  },
  {
   "cell_type": "code",
   "execution_count": 37,
   "metadata": {},
   "outputs": [
    {
     "name": "stdout",
     "output_type": "stream",
     "text": [
      "Resampled dataset shape Counter({0: 2690, 1: 2690})\n"
     ]
    }
   ],
   "source": [
    "# Undersampling by \"Random Undersampling\"\n",
    "rus = RandomUnderSampler(random_state=42)\n",
    "X_Ures, y_Ures = rus.fit_sample(Xtrain, ytrain)\n",
    "print('Resampled dataset shape {}'.format(Counter(y_Ures)))"
   ]
  },
  {
   "cell_type": "code",
   "execution_count": 38,
   "metadata": {},
   "outputs": [
    {
     "name": "stdout",
     "output_type": "stream",
     "text": [
      "\n",
      "\n",
      "('[Training] Accuracy score: (y_predict_trainingLRU,y_Ures)', 0.77286245353159855)\n",
      "\n",
      "\n",
      "('[Test] Accuracy score (y_predict_testLRU, y_Ures):', 0.71720331186752528)\n"
     ]
    }
   ],
   "source": [
    "# Undersampled data with Logistic Regression\n",
    "clfU = LogisticRegression()\n",
    "\n",
    "# Fit the model on the training data\n",
    "clfU.fit(X_Ures, y_Ures) \n",
    "\n",
    "# Print the training score\n",
    "y_predict_trainingLRU = clfU.predict(X_Ures)\n",
    "print(\"\\n\")\n",
    "print(\"[Training] Accuracy score: (y_predict_trainingLRU,y_Ures)\",accuracy_score(y_predict_trainingLRU,y_Ures))\n",
    "\n",
    "# Print the accuracy from the testing data\n",
    "y_predict_testLRU = clfU.predict(Xtest)\n",
    "print(\"\\n\")\n",
    "print(\"[Test] Accuracy score (y_predict_testLRU, y_Ures):\",accuracy_score(y_predict_testLRU, ytest))"
   ]
  },
  {
   "cell_type": "code",
   "execution_count": 39,
   "metadata": {},
   "outputs": [
    {
     "name": "stdout",
     "output_type": "stream",
     "text": [
      "[Training Classification Report:]\n",
      "             precision    recall  f1-score   support\n",
      "\n",
      "          0       0.82      0.70      0.76      2690\n",
      "          1       0.74      0.84      0.79      2690\n",
      "\n",
      "avg / total       0.78      0.77      0.77      5380\n",
      "\n",
      "[Test Classification Report:]\n",
      "             precision    recall  f1-score   support\n",
      "\n",
      "          0       0.95      0.69      0.80      4514\n",
      "          1       0.36      0.84      0.50       921\n",
      "\n",
      "avg / total       0.85      0.72      0.75      5435\n",
      "\n"
     ]
    }
   ],
   "source": [
    "# More comprehensive performance analysis of Undersampled Logistic Regression Model\n",
    "\n",
    "print(\"[Training Classification Report:]\")\n",
    "print(classification_report(y_Ures, y_predict_trainingLRU))\n",
    "\n",
    "print(\"[Test Classification Report:]\")\n",
    "print(classification_report(ytest, y_predict_testLRU))"
   ]
  },
  {
   "cell_type": "markdown",
   "metadata": {},
   "source": [
    "The metrics for the Logistic Regression model using undersampled data are fairly close to the Logistic Regression model using oversampled data. The precision for the non-responsive group is very good at 95%, while the precision in the responsive group is fairly poor at 36%. The model is accurately predicting most of the non-responsive group, but the responsive group is getting a lot of false positives.\n",
    "\n",
    "The recall for the non-responsive group is not very good at 69%. The model is missing over 30% of the positive results for the non-responsive group. The recall for the responsive group is fairly good at 84%. The model is only missing 15%  of the positive results.\n",
    "\n",
    "We will now tune the regularization parameter C to test if it improves the model. For each value of C, we will use the training set to create a logistic regression model and find the average score for the model. We will then pick the C with the highest average score."
   ]
  },
  {
   "cell_type": "code",
   "execution_count": 40,
   "metadata": {},
   "outputs": [
    {
     "name": "stdout",
     "output_type": "stream",
     "text": [
      "0.660037174721 100\n"
     ]
    }
   ],
   "source": [
    "# The list of C values\n",
    "Cs = [0.001, 0.1, 1, 10, 100]\n",
    "\n",
    "max_score = 0\n",
    "\n",
    "for C in Cs:\n",
    "        clfLRUR = LogisticRegression(C=C)\n",
    "        score = cv_score(clfLRUR, X_Ures, y_Ures)\n",
    "\n",
    "        if score > max_score:\n",
    "            max_score = score\n",
    "            best_C = C\n",
    "print max_score, best_C"
   ]
  },
  {
   "cell_type": "markdown",
   "metadata": {},
   "source": [
    "Now test the C with the highest average score on the test set."
   ]
  },
  {
   "cell_type": "code",
   "execution_count": 41,
   "metadata": {},
   "outputs": [
    {
     "data": {
      "text/plain": [
       "0.71609935602575892"
      ]
     },
     "execution_count": 41,
     "metadata": {},
     "output_type": "execute_result"
    }
   ],
   "source": [
    "clflLRUR = LogisticRegression(C=best_C)\n",
    "clflLRUR.fit(X_Ures, y_Ures)\n",
    "ypredLRUR = clflLRUR.predict(Xtest)\n",
    "accuracy_score(ypredLRUR, ytest)"
   ]
  },
  {
   "cell_type": "markdown",
   "metadata": {},
   "source": [
    "Classification Report with the \"best\" value of C"
   ]
  },
  {
   "cell_type": "code",
   "execution_count": 42,
   "metadata": {},
   "outputs": [
    {
     "name": "stdout",
     "output_type": "stream",
     "text": [
      "[Test Classification Report with C=100:]\n",
      "             precision    recall  f1-score   support\n",
      "\n",
      "          0       0.95      0.69      0.80      4514\n",
      "          1       0.36      0.83      0.50       921\n",
      "\n",
      "avg / total       0.85      0.72      0.75      5435\n",
      "\n"
     ]
    }
   ],
   "source": [
    "print(\"[Test Classification Report with C=100:]\")\n",
    "print(classification_report(ytest, ypredLRUR))"
   ]
  },
  {
   "cell_type": "code",
   "execution_count": 43,
   "metadata": {},
   "outputs": [
    {
     "data": {
      "text/plain": [
       "0.74829806807727695"
      ]
     },
     "execution_count": 43,
     "metadata": {},
     "output_type": "execute_result"
    }
   ],
   "source": [
    "# Undersampled data with Random Forest Model\n",
    "UrfCLF = RandomForestClassifier()\n",
    "\n",
    "# Train the Random Forest model on undersampled training data\n",
    "UrfCLF.fit(X_Ures, y_Ures)\n",
    "\n",
    "# Test Random Forest model on the test data\n",
    "ypredURF = UrfCLF.predict(Xtest)\n",
    "accuracy_score(ypredURF, ytest)"
   ]
  },
  {
   "cell_type": "code",
   "execution_count": 44,
   "metadata": {},
   "outputs": [
    {
     "name": "stdout",
     "output_type": "stream",
     "text": [
      "[Test Classification Report from Random Forest:]\n",
      "             precision    recall  f1-score   support\n",
      "\n",
      "          0       0.92      0.76      0.83      4514\n",
      "          1       0.37      0.68      0.48       921\n",
      "\n",
      "avg / total       0.83      0.75      0.77      5435\n",
      "\n"
     ]
    }
   ],
   "source": [
    "# Classification report for undersampled Random Forest Model\n",
    "print(\"[Test Classification Report from Random Forest:]\")\n",
    "print(classification_report(ytest, ypredURF))"
   ]
  },
  {
   "cell_type": "markdown",
   "metadata": {},
   "source": [
    "The Random Forest model using the undersampled data is not the strongest model. The recall for the non-responsive group is 76%, and the recall for the responsive group is 69%. The recall for the responsive group is better than other models, but still not great. The precision for the non-responsive group is 92% (great!) and the precision for the responsive group is 37% (no good). We will now tune the model to see if we can improve the metrics.\n",
    "\n",
    "### Tune Undersampled Random Forest Model"
   ]
  },
  {
   "cell_type": "code",
   "execution_count": 45,
   "metadata": {
    "collapsed": true
   },
   "outputs": [],
   "source": [
    "# Use the same parameter grid \n",
    "param_grid = {\n",
    "    'n_estimators': [200, 300, 400],\n",
    "    'max_features': [None, 'sqrt', 'log2'],\n",
    "    'max_depth': [None, 50, 100, 150]\n",
    "}\n",
    "\n",
    "# Instantiate the grid search model\n",
    "grid_searchU = GridSearchCV(estimator = UrfCLF, param_grid = param_grid)"
   ]
  },
  {
   "cell_type": "code",
   "execution_count": 46,
   "metadata": {
    "collapsed": true
   },
   "outputs": [],
   "source": [
    "# Fit the grid search to the undersampled data\n",
    "#grid_searchU.fit(X_Ures, y_Ures.ravel())\n",
    "#grid_searchU.best_params_"
   ]
  },
  {
   "cell_type": "code",
   "execution_count": 47,
   "metadata": {},
   "outputs": [
    {
     "data": {
      "text/plain": [
       "0.73781048758049683"
      ]
     },
     "execution_count": 47,
     "metadata": {},
     "output_type": "execute_result"
    }
   ],
   "source": [
    "# Re-create the model with the \"best\" parameters of 'max_depth'=None,'max_features'=None,'n_estimators'=200\n",
    "UrfCLF1 = RandomForestClassifier(n_estimators=300,max_features=None,max_depth=100)\n",
    "# Train the updated Random Forest model on undersampled training data\n",
    "UrfCLF1.fit(X_Ures, y_Ures.ravel())\n",
    "\n",
    "# Test updated Random Forest model on the test data\n",
    "ypredURF1 = UrfCLF1.predict(Xtest)\n",
    "accuracy_score(ypredURF1, ytest)"
   ]
  },
  {
   "cell_type": "code",
   "execution_count": 48,
   "metadata": {},
   "outputs": [
    {
     "name": "stdout",
     "output_type": "stream",
     "text": [
      "[Test Classification Report from Updated Random Forest:]\n",
      "             precision    recall  f1-score   support\n",
      "\n",
      "          0       0.95      0.72      0.82      4514\n",
      "          1       0.37      0.82      0.51       921\n",
      "\n",
      "avg / total       0.85      0.74      0.77      5435\n",
      "\n"
     ]
    }
   ],
   "source": [
    "print(\"[Test Classification Report from Updated Random Forest:]\")\n",
    "print(classification_report(ytest, ypredURF1))"
   ]
  },
  {
   "cell_type": "markdown",
   "metadata": {},
   "source": [
    "### ROC Curves"
   ]
  },
  {
   "cell_type": "code",
   "execution_count": 49,
   "metadata": {},
   "outputs": [
    {
     "data": {
      "image/png": "[encoded data removed]",
      "text/plain": [
       "<matplotlib.figure.Figure at 0x1a11e8dc90>"
      ]
     },
     "metadata": {},
     "output_type": "display_data"
    }
   ],
   "source": [
    "# calculate the fpr and tpr for all thresholds of the classification and plot\n",
    "from sklearn import metrics\n",
    "import matplotlib.pyplot as plt\n",
    "\n",
    "# Logistic Regression\n",
    "fpr, tpr, threshold = metrics.roc_curve(ytest, y_predict_test)\n",
    "roc_auc = metrics.auc(fpr, tpr)\n",
    "plt.plot(fpr, tpr, 'blue', label = 'Log Reg AUC = %0.2f' % roc_auc)\n",
    "\n",
    "# Logistic Regression with Hyperparameterization\n",
    "fpr, tpr, threshold = metrics.roc_curve(ytest, ypred)\n",
    "roc_auc = metrics.auc(fpr, tpr)\n",
    "plt.plot(fpr, tpr, 'green', label = 'Log Reg w/ Hyp AUC = %0.2f' % roc_auc)\n",
    "\n",
    "# Random Forest\n",
    "fpr, tpr, threshold = metrics.roc_curve(ytest, ypredRF)\n",
    "roc_auc = metrics.auc(fpr, tpr)\n",
    "plt.plot(fpr, tpr, 'purple', label = 'Rand For AUC = %0.2f' % roc_auc)\n",
    "\n",
    "# Random Forest with Hyperparameterization\n",
    "fpr, tpr, threshold = metrics.roc_curve(ytest, ypredRF1)\n",
    "roc_auc = metrics.auc(fpr, tpr)\n",
    "plt.plot(fpr, tpr, 'red', label = 'Rand For w/ Hyp AUC = %0.2f' % roc_auc)\n",
    "\n",
    "### Oversampled Data\n",
    "\n",
    "# Logistic Regression (Oversampled)\n",
    "fpr, tpr, threshold = metrics.roc_curve(ytest, y_predict_testLRO)\n",
    "roc_auc = metrics.auc(fpr, tpr)\n",
    "plt.plot(fpr, tpr, 'brown', label = 'Over Log Reg AUC = %0.2f' % roc_auc)\n",
    "\n",
    "# Logistic Regression with Hyperparameterization (Oversampled)\n",
    "fpr, tpr, threshold = metrics.roc_curve(ytest, ypredLROR)\n",
    "roc_auc = metrics.auc(fpr, tpr)\n",
    "plt.plot(fpr, tpr, 'aqua', label = 'Over Log Reg w/ Hyp AUC = %0.2f' % roc_auc)\n",
    "\n",
    "# Random Forest (Oversampled)\n",
    "fpr, tpr, threshold = metrics.roc_curve(ytest, ypredORF)\n",
    "roc_auc = metrics.auc(fpr, tpr)\n",
    "plt.plot(fpr, tpr, 'pink', label = 'Over Rand For AUC = %0.2f' % roc_auc)\n",
    "\n",
    "# Random Forest with Hyperparameterization (Oversampled)\n",
    "fpr, tpr, threshold = metrics.roc_curve(ytest, ypredORF1)\n",
    "roc_auc = metrics.auc(fpr, tpr)\n",
    "plt.plot(fpr, tpr, 'tan', label = 'Over Rand For w/ Hyp AUC = %0.2f' % roc_auc)\n",
    "\n",
    "### Undersampled Data\n",
    "\n",
    "# Logistic Regression (Undersampled)\n",
    "fpr, tpr, threshold = metrics.roc_curve(ytest, y_predict_testLRU)\n",
    "roc_auc = metrics.auc(fpr, tpr)\n",
    "plt.plot(fpr, tpr, 'deepskyblue', label = 'Under Log Reg AUC = %0.2f' % roc_auc)\n",
    "\n",
    "# Logistic Regression with Hyperparameterization (Undersampled)\n",
    "fpr, tpr, threshold = metrics.roc_curve(ytest, ypredLRUR)\n",
    "roc_auc = metrics.auc(fpr, tpr)\n",
    "plt.plot(fpr, tpr, 'orange', label = 'Under Log Reg w/ Hyp AUC = %0.2f' % roc_auc)\n",
    "\n",
    "# Random Forest (Undersampled)\n",
    "fpr, tpr, threshold = metrics.roc_curve(ytest, ypredURF)\n",
    "roc_auc = metrics.auc(fpr, tpr)\n",
    "plt.plot(fpr, tpr, 'yellow', label = 'Under Rand For AUC = %0.2f' % roc_auc)\n",
    "\n",
    "# Random Forest with Hyperparameterization (Undersampled)\n",
    "fpr, tpr, threshold = metrics.roc_curve(ytest, ypredURF1)\n",
    "roc_auc = metrics.auc(fpr, tpr)\n",
    "plt.plot(fpr, tpr, 'fuchsia', label = 'Under Rand For w/ Hyp AUC = %0.2f' % roc_auc)\n",
    "\n",
    "plt.title('Receiver Operating Characteristic')\n",
    "plt.legend(loc = 'lower right')\n",
    "plt.plot([0, 1], [0, 1],'r--')\n",
    "plt.xlim([0, 1])\n",
    "plt.ylim([0, 1])\n",
    "plt.ylabel('True Positive Rate')\n",
    "plt.xlabel('False Positive Rate')\n",
    "\n",
    "# save plot to word doc for report\n",
    "plt.savefig('/Users/Molfer/Documents/Lisa/Springboard/Capstone 1/DataClothing/Images/ROC.png')\n",
    "\n",
    "plt.show()"
   ]
  },
  {
   "cell_type": "markdown",
   "metadata": {},
   "source": [
    "Client's needs will have a large impact on which model to choose. While all clients will want to be conscious of how they spend their money, each client will have a different comfort level with the proportions of True Positive and False Positive results. In this case, Threads is a large clothing store that presumably has a larger budget. They may be more comfortable with a larger False Positive rate than a small nonprofit. With this in mind, we will proceed with the Logistic Regression with Hyperparameterization model from the Oversampled test run."
   ]
  },
  {
   "cell_type": "markdown",
   "metadata": {
    "collapsed": true
   },
   "source": [
    "### Feature Importance"
   ]
  },
  {
   "cell_type": "code",
   "execution_count": 50,
   "metadata": {},
   "outputs": [],
   "source": [
    "\n",
    "clfO.fit(X_Ores / np.std(X_Ores, 0), y_Ores)\n",
    "\n",
    "features = pd.DataFrame(clfO.coef_)\n",
    "\n",
    "features = pd.DataFrame(features.unstack())\n",
    "\n",
    "features.columns = ['value']\n",
    "\n",
    "features.reset_index(level=1,drop=True,inplace=True)"
   ]
  },
  {
   "cell_type": "code",
   "execution_count": 51,
   "metadata": {},
   "outputs": [],
   "source": [
    "featurenames = pd.DataFrame(list(clothingFileLRnoRESP))\n",
    "featurenames.columns = ['feature']"
   ]
  },
  {
   "cell_type": "code",
   "execution_count": 52,
   "metadata": {},
   "outputs": [
    {
     "name": "stdout",
     "output_type": "stream",
     "text": [
      "    feature     value\n",
      "0  ZIP_CODE  0.026575\n",
      "1       REC -0.024648\n",
      "2       FRE  0.739203\n",
      "3       MON  0.329757\n",
      "4   CC_CARD  0.050173\n"
     ]
    }
   ],
   "source": [
    "importance = pd.merge(featurenames, features, left_index=True, right_index=True)\n",
    "print(importance.head())"
   ]
  },
  {
   "cell_type": "code",
   "execution_count": 53,
   "metadata": {},
   "outputs": [
    {
     "name": "stdout",
     "output_type": "stream",
     "text": [
      "         feature     value  absvalue\n",
      "46      LTFREDAY -2.925280  2.925280\n",
      "2            FRE  0.739203  0.739203\n",
      "33       FREDAYS  0.530942  0.530942\n",
      "24       CCSPEND -0.356145  0.356145\n",
      "23       PSSPEND -0.333949  0.333949\n",
      "3            MON  0.329757  0.329757\n",
      "32          DAYS  0.290191  0.290191\n",
      "43     RESPONDED -0.263444  0.263444\n",
      "37        STYLES  0.195777  0.195777\n",
      "44  RESPONSERATE  0.182652  0.182652\n",
      "35       CLASSES -0.157704  0.157704\n",
      "95   CLUSTYPE_47 -0.147341  0.147341\n"
     ]
    }
   ],
   "source": [
    "importance['absvalue'] = importance['value'].abs()\n",
    "\n",
    "importanceSorted = importance.sort_values(by='absvalue',ascending=False)\n",
    "print(importanceSorted.head(12))"
   ]
  },
  {
   "cell_type": "markdown",
   "metadata": {
    "collapsed": true
   },
   "source": [
    "### Features\n",
    "\n",
    "- 'LTFREDAY' - Lifetime average time between visits\n",
    "- 'FRE' - Number of purchase visits\n",
    "- 'FREDAYS' - Number of days between purchases\n",
    "- 'CCSPEND' - Spending at the CC store\n",
    "- 'PSSPEND' - Spending at the PS store\n",
    "- 'MON' - Total net sales\n",
    "- 'DAYS' - Number of days the customer has been on file\n",
    "- 'RESPONDED' - Number of promotions responded to in the past year\n",
    "- 'STYLES' - Total number of individual items purchased by the customer\n",
    "- 'RESPONSERATE' - Promotion response rate for the past year - indicates which customers have ever responded to a marketing promotion before\n",
    "- 'CLASSES' - Number of different product classes purchased\n",
    "- 'CLUSTYPE' - Microvision lifestyle cluster type\n",
    "\n",
    "The most important feature in the chosen Logistic Regression model is the 'Lifetime average time between visits'. The feature is a negative indicator, meaning as the average time between visits increases, the likelihood of the customer responding to the promotion goes down. The next six important features in the model have to do with the number of purchase visits, days the customer has been on file or spending amounts, including spending at individual stores. The four features after that are the customer's response to other promotions, the number of total products purchased, and the number of product classes the customer has purchased.\n",
    "\n",
    "To increase customers response to promotions, I would set thresholds for each of these categories and target customers who met the thresholds. I would also identify which categories Threads would want to try and influence to expand the number of responsive customers. Threads ultimately wants increase the customers' rate of response to promotions to encourage customers to spend more money. The most important features that do not have to do directly with spending, (the category we want to increase) are customer visits and the number of different product classes purchased. I would work with Threads to identify ways to increase these metrics as well."
   ]
  },
  {
   "cell_type": "code",
   "execution_count": null,
   "metadata": {
    "collapsed": true
   },
   "outputs": [],
   "source": []
  }
 ],
 "metadata": {
  "kernelspec": {
   "display_name": "Python 2",
   "language": "python",
   "name": "python2"
  },
  "language_info": {
   "codemirror_mode": {
    "name": "ipython",
    "version": 2
   },
   "file_extension": ".py",
   "mimetype": "text/x-python",
   "name": "python",
   "nbconvert_exporter": "python",
   "pygments_lexer": "ipython2",
   "version": "2.7.13"
  }
 },
 "nbformat": 4,
 "nbformat_minor": 2
}
